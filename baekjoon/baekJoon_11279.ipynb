{
 "cells": [
  {
   "cell_type": "markdown",
   "id": "8214acb4",
   "metadata": {},
   "source": [
    "# 문제"
   ]
  },
  {
   "cell_type": "markdown",
   "id": "1be53d62",
   "metadata": {},
   "source": [
    "널리 잘 알려진 자료구조 중 최대 힙이 있다. 최대 힙을 이용하여 다음과 같은 연산을 지원하는 프로그램을 작성하시오.\n",
    "\n",
    "배열에 자연수 x를 넣는다.\n",
    "배열에서 가장 큰 값을 출력하고, 그 값을 배열에서 제거한다.\n",
    "프로그램은 처음에 비어있는 배열에서 시작하게 된다."
   ]
  },
  {
   "cell_type": "markdown",
   "id": "3e14d73b",
   "metadata": {},
   "source": [
    "# 입력"
   ]
  },
  {
   "cell_type": "markdown",
   "id": "189a4af3",
   "metadata": {},
   "source": [
    "첫째 줄에 연산의 개수 N(1 ≤ N ≤ 100,000)이 주어진다. 다음 N개의 줄에는 연산에 대한 정보를 나타내는 정수 x가 주어진다. 만약 x가 자연수라면 배열에 x라는 값을 넣는(추가하는) 연산이고, x가 0이라면 배열에서 가장 큰 값을 출력하고 그 값을 배열에서 제거하는 경우이다. 입력되는 자연수는 231보다 작다."
   ]
  },
  {
   "cell_type": "markdown",
   "id": "3d60e3e3",
   "metadata": {},
   "source": [
    "# 출력"
   ]
  },
  {
   "cell_type": "markdown",
   "id": "0fde0475",
   "metadata": {},
   "source": [
    "입력에서 0이 주어진 회수만큼 답을 출력한다. 만약 배열이 비어 있는 경우인데 가장 큰 값을 출력하라고 한 경우에는 0을 출력하면 된다."
   ]
  },
  {
   "cell_type": "markdown",
   "id": "356a2ee2",
   "metadata": {},
   "source": [
    "## 예제 입력"
   ]
  },
  {
   "cell_type": "code",
   "execution_count": null,
   "id": "48c1d934",
   "metadata": {},
   "outputs": [],
   "source": [
    "13\n",
    "0\n",
    "1\n",
    "2\n",
    "0\n",
    "0\n",
    "3\n",
    "2\n",
    "1\n",
    "0\n",
    "0\n",
    "0\n",
    "0\n",
    "0"
   ]
  },
  {
   "cell_type": "markdown",
   "id": "2306dfa8",
   "metadata": {},
   "source": [
    "## 예제 출력"
   ]
  },
  {
   "cell_type": "code",
   "execution_count": null,
   "id": "fac98566",
   "metadata": {},
   "outputs": [],
   "source": [
    "0\n",
    "2\n",
    "1\n",
    "3\n",
    "2\n",
    "1\n",
    "0\n",
    "0"
   ]
  },
  {
   "cell_type": "markdown",
   "id": "5cbd5556",
   "metadata": {},
   "source": [
    "### 연습"
   ]
  },
  {
   "cell_type": "code",
   "execution_count": 5,
   "id": "1c997511",
   "metadata": {},
   "outputs": [],
   "source": [
    "from queue import PriorityQueue\n",
    "import heapq"
   ]
  },
  {
   "cell_type": "code",
   "execution_count": 6,
   "id": "51cebce9",
   "metadata": {},
   "outputs": [],
   "source": [
    "q = PriorityQueue()\n",
    "\n"
   ]
  },
  {
   "cell_type": "code",
   "execution_count": 11,
   "id": "afdeac8f",
   "metadata": {},
   "outputs": [],
   "source": [
    "heap = []\n",
    "heapq.heappush(heap,(3 * -1))\n",
    "heapq.heappush(heap,(2 * -1))\n",
    "heapq.heappush(heap,(1 * -1))"
   ]
  },
  {
   "cell_type": "code",
   "execution_count": 12,
   "id": "1b6b1cc7",
   "metadata": {},
   "outputs": [
    {
     "data": {
      "text/plain": [
       "[-3, -2, -1]"
      ]
     },
     "execution_count": 12,
     "metadata": {},
     "output_type": "execute_result"
    }
   ],
   "source": [
    "heap"
   ]
  },
  {
   "cell_type": "code",
   "execution_count": 14,
   "id": "8001ff50",
   "metadata": {},
   "outputs": [
    {
     "data": {
      "text/plain": [
       "3"
      ]
     },
     "execution_count": 14,
     "metadata": {},
     "output_type": "execute_result"
    }
   ],
   "source": [
    "heapq.heappop(heap) * -1"
   ]
  },
  {
   "cell_type": "code",
   "execution_count": 15,
   "id": "0425da2a",
   "metadata": {},
   "outputs": [
    {
     "name": "stdout",
     "output_type": "stream",
     "text": [
      "13 0 1 2 0 0 3 2 1 0 0 0 0 0\n"
     ]
    },
    {
     "ename": "ValueError",
     "evalue": "invalid literal for int() with base 10: '13 0 1 2 0 0 3 2 1 0 0 0 0 0'",
     "output_type": "error",
     "traceback": [
      "\u001b[0;31m---------------------------------------------------------------------------\u001b[0m",
      "\u001b[0;31mValueError\u001b[0m                                Traceback (most recent call last)",
      "Cell \u001b[0;32mIn[15], line 3\u001b[0m\n\u001b[1;32m      1\u001b[0m \u001b[38;5;28;01mimport\u001b[39;00m \u001b[38;5;21;01mheapq\u001b[39;00m\n\u001b[1;32m      2\u001b[0m \u001b[38;5;28;01mimport\u001b[39;00m \u001b[38;5;21;01msys\u001b[39;00m\n\u001b[0;32m----> 3\u001b[0m n \u001b[38;5;241m=\u001b[39m \u001b[38;5;28;43mint\u001b[39;49m\u001b[43m(\u001b[49m\u001b[38;5;28;43minput\u001b[39;49m\u001b[43m(\u001b[49m\u001b[43m)\u001b[49m\u001b[43m)\u001b[49m\n\u001b[1;32m      4\u001b[0m heap \u001b[38;5;241m=\u001b[39m []\n\u001b[1;32m      7\u001b[0m \u001b[38;5;28;01mfor\u001b[39;00m _ \u001b[38;5;129;01min\u001b[39;00m \u001b[38;5;28mrange\u001b[39m(n):\n",
      "\u001b[0;31mValueError\u001b[0m: invalid literal for int() with base 10: '13 0 1 2 0 0 3 2 1 0 0 0 0 0'"
     ]
    }
   ],
   "source": [
    "import heapq\n",
    "import sys\n",
    "n = int(input())\n",
    "heap = []\n",
    "\n",
    "\n",
    "for _ in range(n):\n",
    "    num = int(sys.stdin.readline())\n",
    "    if num != 0:\n",
    "        heapq.heappush(heap, (-num))\n",
    "    else:\n",
    "        try:\n",
    "            print ( -1 * heapq.heappop(heap))\n",
    "        except:\n",
    "            print(0)\n"
   ]
  },
  {
   "cell_type": "code",
   "execution_count": null,
   "id": "4cee21ac",
   "metadata": {},
   "outputs": [],
   "source": []
  }
 ],
 "metadata": {
  "kernelspec": {
   "display_name": "Python 3 (ipykernel)",
   "language": "python",
   "name": "python3"
  },
  "language_info": {
   "codemirror_mode": {
    "name": "ipython",
    "version": 3
   },
   "file_extension": ".py",
   "mimetype": "text/x-python",
   "name": "python",
   "nbconvert_exporter": "python",
   "pygments_lexer": "ipython3",
   "version": "3.10.9"
  }
 },
 "nbformat": 4,
 "nbformat_minor": 5
}
