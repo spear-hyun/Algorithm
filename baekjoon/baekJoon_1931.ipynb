{
 "cells": [
  {
   "attachments": {},
   "cell_type": "markdown",
   "metadata": {},
   "source": [
    "# 문제\n",
    "한 개의 회의실이 있는데 이를 사용하고자 하는 N개의 회의에 대하여 회의실 사용표를 만들려고 한다. 각 회의 I에 대해 시작시간과 끝나는 시간이 주어져 있고, 각 회의가 겹치지 않게 하면서 회의실을 사용할 수 있는 회의의 최대 개수를 찾아보자. 단, 회의는 한번 시작하면 중간에 중단될 수 없으며 한 회의가 끝나는 것과 동시에 다음 회의가 시작될 수 있다. 회의의 시작시간과 끝나는 시간이 같을 수도 있다. 이 경우에는 시작하자마자 끝나는 것으로 생각하면 된다."
   ]
  },
  {
   "cell_type": "markdown",
   "metadata": {},
   "source": [
    "# 입력\n",
    "첫째 줄에 회의의 수 N(1 ≤ N ≤ 100,000)이 주어진다. 둘째 줄부터 N+1 줄까지 각 회의의 정보가 주어지는데 이것은 공백을 사이에 두고 회의의 시작시간과 끝나는 시간이 주어진다. 시작 시간과 끝나는 시간은 231-1보다 작거나 같은 자연수 또는 0이다."
   ]
  },
  {
   "cell_type": "markdown",
   "metadata": {},
   "source": [
    "# 출력\n",
    "첫째 줄에 최대 사용할 수 있는 회의의 최대 개수를 출력한다."
   ]
  },
  {
   "attachments": {},
   "cell_type": "markdown",
   "metadata": {},
   "source": [
    "# 예제 입력"
   ]
  },
  {
   "cell_type": "code",
   "execution_count": null,
   "metadata": {},
   "outputs": [],
   "source": [
    "11\n",
    "1 4\n",
    "3 5\n",
    "0 6\n",
    "5 7\n",
    "3 8\n",
    "5 9\n",
    "6 10\n",
    "8 11\n",
    "8 12\n",
    "2 13\n",
    "12 14"
   ]
  },
  {
   "attachments": {},
   "cell_type": "markdown",
   "metadata": {},
   "source": [
    "# 예제 출력\n",
    "4\n"
   ]
  },
  {
   "attachments": {},
   "cell_type": "markdown",
   "metadata": {},
   "source": [
    "### 1. 입력 받는다.\n",
    "### 2. 시작 시간을 기준으로 오름차순 정렬\n",
    "### 3. 회를 선택하기 시작\n",
    "### 4. 선택한 회의 끝나는 시간 아휴애 사적허눈 회의 중에서, 가장 빨리 시작하는 회의를 선택\n",
    "### 5. 가능한 많은 회의를 선택할 때까지 4번을 반복\n",
    "### 6. 선택한 회의의 개수를 출력"
   ]
  },
  {
   "cell_type": "code",
   "execution_count": null,
   "metadata": {},
   "outputs": [
    {
     "name": "stdout",
     "output_type": "stream",
     "text": [
      "(1, 4)\n",
      "(3, 5)\n",
      "(0, 6)\n",
      "(5, 7)\n",
      "(3, 8)\n",
      "(5, 9)\n",
      "(6, 10)\n",
      "(8, 11)\n",
      "(8, 12)\n",
      "(2, 13)\n",
      "(12, 14)\n"
     ]
    }
   ],
   "source": [
    "num = int(input())\n",
    "scl = []\n",
    "for i in range(num):\n",
    "    input_str = input()\n",
    "    valubes = tuple(map(int, input_str.split()))\n",
    "    scl.apprnd(values)\n"
   ]
  },
  {
   "cell_type": "code",
   "execution_count": null,
   "metadata": {},
   "outputs": [
    {
     "name": "stdout",
     "output_type": "stream",
     "text": [
      "(12, 14)\n"
     ]
    }
   ],
   "source": [
    "print(values)"
   ]
  },
  {
   "cell_type": "code",
   "execution_count": null,
   "metadata": {},
   "outputs": [],
   "source": []
  },
  {
   "cell_type": "code",
   "execution_count": null,
   "metadata": {},
   "outputs": [],
   "source": [
    "\"\"\"\n",
    " A <-회의 정보\n",
    "\n",
    " for 회의실 갯수:\n",
    "    if 앞 회의 종료시각보다 시작 시각이 늦은 회의가 나온 경우:\n",
    "        현재 회의의 종료 시각으로 종료 시각 업데이트 \n",
    "        진행할 수 있는 회의 수 1 증가 \n",
    "\"\"\""
   ]
  },
  {
   "cell_type": "code",
   "execution_count": null,
   "metadata": {},
   "outputs": [],
   "source": [
    "N = int(input())\n",
    "A = [[0] * 2 for _ in range(N)]\n",
    "\n",
    "for i in range(N):\n",
    "    S, E = map(int,input().split())\n",
    "    A[i][0] = E  ## 종료 시각 우선 정렬이 먼저 하므로 0번쨰에 저장\n",
    "    A[i][1] = S \n",
    "\n",
    "A.sort() ## sort함수는 첫 번째 값으로 정렬이 됨\n",
    "\n",
    "count = 0\n",
    "end = -1 \n",
    "for i in range(N):\n",
    "    if A[i][0] >= end:\n",
    "        end = A[i][0]\n",
    "        count += 1\n",
    "\n",
    "print(count)"
   ]
  },
  {
   "cell_type": "code",
   "execution_count": 5,
   "metadata": {},
   "outputs": [
    {
     "name": "stdout",
     "output_type": "stream",
     "text": [
      "안녕 창현아? 난 착한 진수야 \n"
     ]
    }
   ],
   "source": [
    "\n",
    "print('안녕 창현아? 난 착한 진수야 ')"
   ]
  }
 ],
 "metadata": {
  "kernelspec": {
   "display_name": "base",
   "language": "python",
   "name": "python3"
  },
  "language_info": {
   "codemirror_mode": {
    "name": "ipython",
    "version": 3
   },
   "file_extension": ".py",
   "mimetype": "text/x-python",
   "name": "python",
   "nbconvert_exporter": "python",
   "pygments_lexer": "ipython3",
   "version": "3.10.9"
  },
  "orig_nbformat": 4
 },
 "nbformat": 4,
 "nbformat_minor": 2
}
