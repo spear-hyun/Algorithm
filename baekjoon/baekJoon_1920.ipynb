{
 "cells": [
  {
   "attachments": {},
   "cell_type": "markdown",
   "metadata": {},
   "source": [
    "# 문제"
   ]
  },
  {
   "attachments": {},
   "cell_type": "markdown",
   "metadata": {},
   "source": [
    "N개의 정수 A[1], A[2], …, A[N]이 주어져 있을 때, 이 안에 X라는 정수가 존재하는지 알아내는 프로그램을 작성하시오.\n"
   ]
  },
  {
   "cell_type": "markdown",
   "metadata": {},
   "source": [
    "# 입력"
   ]
  },
  {
   "attachments": {},
   "cell_type": "markdown",
   "metadata": {},
   "source": [
    "첫째 줄에 자연수 N(1 ≤ N ≤ 100,000)이 주어진다. 다음 줄에는 N개의 정수 A[1], A[2], …, A[N]이 주어진다. 다음 줄에는 M(1 ≤ M ≤ 100,000)이 주어진다. 다음 줄에는 M개의 수들이 주어지는데, 이 수들이 A안에 존재하는지 알아내면 된다. 모든 정수의 범위는 -231 보다 크거나 같고 231보다 작다."
   ]
  },
  {
   "cell_type": "markdown",
   "metadata": {},
   "source": [
    "# 출력"
   ]
  },
  {
   "attachments": {},
   "cell_type": "markdown",
   "metadata": {},
   "source": [
    "M개의 줄에 답을 출력한다. 존재하면 1을, 존재하지 않으면 0을 출력한다."
   ]
  },
  {
   "cell_type": "markdown",
   "metadata": {},
   "source": [
    "# 예제 입력"
   ]
  },
  {
   "cell_type": "code",
   "execution_count": null,
   "metadata": {},
   "outputs": [],
   "source": [
    "5\n",
    "4 1 5 2 3\n",
    "5\n",
    "1 3 7 9 5"
   ]
  },
  {
   "cell_type": "markdown",
   "metadata": {},
   "source": [
    "# 예제 출력"
   ]
  },
  {
   "cell_type": "code",
   "execution_count": null,
   "metadata": {},
   "outputs": [],
   "source": [
    "1\n",
    "1\n",
    "0\n",
    "0\n",
    "1"
   ]
  },
  {
   "cell_type": "code",
   "execution_count": 2,
   "metadata": {},
   "outputs": [
    {
     "name": "stdout",
     "output_type": "stream",
     "text": [
      "1\n",
      "1\n",
      "0\n",
      "0\n",
      "1\n"
     ]
    }
   ],
   "source": [
    "# 입력\n",
    "N = int(input())\n",
    "A = list(map(int, input().split()))\n",
    "M = int(input())\n",
    "arr = list(map(int, input().split()))\n",
    "A.sort()\t\t\t# A 정렬\n",
    "\n",
    "# arr의 각 원소별로 이분탐색\n",
    "for num in arr:\n",
    "    lt, rt = 0, N - 1\t\t# lt는 맨 앞, rt는 맨 뒤\n",
    "    isExist = False\t\t# 찾음 여부\n",
    "\n",
    "    # 이분탐색 시작\n",
    "    while lt <= rt:\t\t# lt가 rt보다 커지면 반복문 탈출\n",
    "        mid = (lt + rt) // 2\t# mid는 lt와 rt의 중간값\n",
    "        if num == A[mid]:\t# num(목표값)이 A[mid]값과 같다면 (목표값 존재여부를 알았다면)\n",
    "            isExist = True\t# isExist Ture 변경\n",
    "            print(1)\t\t# 1 출력\n",
    "            break\t\t# 반복문 탈출\n",
    "        elif num > A[mid]:\t# A[mid]가 num보다 작으면\n",
    "            lt = mid + 1\t# lt를 높임\n",
    "        else:\t\t\t# A[mid]가 num보다 크다면\n",
    "            rt = mid - 1\t# rt를 낮춤\n",
    "\n",
    "    if not isExist:\t\t# 찾지 못한 경우\n",
    "        print(0)\t\t# 0 출력"
   ]
  }
 ],
 "metadata": {
  "kernelspec": {
   "display_name": "base",
   "language": "python",
   "name": "python3"
  },
  "language_info": {
   "codemirror_mode": {
    "name": "ipython",
    "version": 3
   },
   "file_extension": ".py",
   "mimetype": "text/x-python",
   "name": "python",
   "nbconvert_exporter": "python",
   "pygments_lexer": "ipython3",
   "version": "3.10.9"
  },
  "orig_nbformat": 4
 },
 "nbformat": 4,
 "nbformat_minor": 2
}
